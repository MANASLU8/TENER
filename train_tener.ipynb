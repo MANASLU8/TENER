{
  "nbformat": 4,
  "nbformat_minor": 0,
  "metadata": {
    "colab": {
      "name": "train-tener",
      "provenance": [],
      "collapsed_sections": [],
      "toc_visible": true
    },
    "kernelspec": {
      "name": "python3",
      "display_name": "Python 3"
    },
    "accelerator": "GPU"
  },
  "cells": [
    {
      "cell_type": "markdown",
      "metadata": {
        "id": "hDGLRkQQAVeP",
        "colab_type": "text"
      },
      "source": [
        "# Checkout the repositories and ensure that runtime has gpu acceleration\n"
      ]
    },
    {
      "cell_type": "code",
      "metadata": {
        "id": "ZFvd5qlFA0n5",
        "colab_type": "code",
        "colab": {
          "base_uri": "https://localhost:8080/",
          "height": 527
        },
        "outputId": "9a76b859-a0c0-430c-a1e4-19fe7df2a21f"
      },
      "source": [
        "!git clone https://github.com/MANASLU8/TENER.git\n",
        "!git clone https://github.com/MANASLU8/fact-ru-eval2stanford.git\n",
        "!nvidia-smi"
      ],
      "execution_count": 2,
      "outputs": [
        {
          "output_type": "stream",
          "text": [
            "Cloning into 'TENER'...\n",
            "remote: Enumerating objects: 132, done.\u001b[K\n",
            "remote: Counting objects: 100% (132/132), done.\u001b[K\n",
            "remote: Compressing objects: 100% (84/84), done.\u001b[K\n",
            "remote: Total 132 (delta 56), reused 113 (delta 37), pack-reused 0\u001b[K\n",
            "Receiving objects: 100% (132/132), 4.89 MiB | 3.12 MiB/s, done.\n",
            "Resolving deltas: 100% (56/56), done.\n",
            "Cloning into 'fact-ru-eval2stanford'...\n",
            "remote: Enumerating objects: 62, done.\u001b[K\n",
            "remote: Counting objects: 100% (62/62), done.\u001b[K\n",
            "remote: Compressing objects: 100% (44/44), done.\u001b[K\n",
            "remote: Total 62 (delta 29), reused 50 (delta 17), pack-reused 0\u001b[K\n",
            "Unpacking objects: 100% (62/62), done.\n",
            "Sat Jan 18 15:56:31 2020       \n",
            "+-----------------------------------------------------------------------------+\n",
            "| NVIDIA-SMI 440.44       Driver Version: 418.67       CUDA Version: 10.1     |\n",
            "|-------------------------------+----------------------+----------------------+\n",
            "| GPU  Name        Persistence-M| Bus-Id        Disp.A | Volatile Uncorr. ECC |\n",
            "| Fan  Temp  Perf  Pwr:Usage/Cap|         Memory-Usage | GPU-Util  Compute M. |\n",
            "|===============================+======================+======================|\n",
            "|   0  Tesla T4            Off  | 00000000:00:04.0 Off |                    0 |\n",
            "| N/A   46C    P8    10W /  70W |      0MiB / 15079MiB |      0%      Default |\n",
            "+-------------------------------+----------------------+----------------------+\n",
            "                                                                               \n",
            "+-----------------------------------------------------------------------------+\n",
            "| Processes:                                                       GPU Memory |\n",
            "|  GPU       PID   Type   Process name                             Usage      |\n",
            "|=============================================================================|\n",
            "|  No running processes found                                                 |\n",
            "+-----------------------------------------------------------------------------+\n"
          ],
          "name": "stdout"
        }
      ]
    },
    {
      "cell_type": "markdown",
      "metadata": {
        "id": "m8wwY4JCB05u",
        "colab_type": "text"
      },
      "source": [
        "# Install missing dependencies\n",
        "\n",
        "\n"
      ]
    },
    {
      "cell_type": "code",
      "metadata": {
        "id": "zO07sJ88CRND",
        "colab_type": "code",
        "colab": {
          "base_uri": "https://localhost:8080/",
          "height": 629
        },
        "outputId": "beb7c10c-2ded-472a-dc8d-9b3f7da4d5a5"
      },
      "source": [
        "pip install torch==1.4.0 pyyaml==5.1 fastNLP"
      ],
      "execution_count": 2,
      "outputs": [
        {
          "output_type": "stream",
          "text": [
            "Requirement already satisfied: torch==1.4.0 in /usr/local/lib/python3.6/dist-packages (1.4.0)\n",
            "Requirement already satisfied: pyyaml==5.1 in /usr/local/lib/python3.6/dist-packages (5.1)\n",
            "Collecting fastNLP\n",
            "\u001b[?25l  Downloading https://files.pythonhosted.org/packages/de/97/56d84b45c6f416943ba21d9516d98649328ae1afb82ede55bdbe53ba60cb/FastNLP-0.5.0-py3-none-any.whl (270kB)\n",
            "\u001b[K     |████████████████████████████████| 276kB 31.6MB/s \n",
            "\u001b[?25hRequirement already satisfied: tqdm>=4.28.1 in /usr/local/lib/python3.6/dist-packages (from fastNLP) (4.28.1)\n",
            "Requirement already satisfied: numpy>=1.14.2 in /usr/local/lib/python3.6/dist-packages (from fastNLP) (1.17.5)\n",
            "Collecting nltk>=3.4.1\n",
            "\u001b[?25l  Downloading https://files.pythonhosted.org/packages/f6/1d/d925cfb4f324ede997f6d47bea4d9babba51b49e87a767c170b77005889d/nltk-3.4.5.zip (1.5MB)\n",
            "\u001b[K     |████████████████████████████████| 1.5MB 48.3MB/s \n",
            "\u001b[?25hRequirement already satisfied: requests in /usr/local/lib/python3.6/dist-packages (from fastNLP) (2.21.0)\n",
            "Requirement already satisfied: spacy in /usr/local/lib/python3.6/dist-packages (from fastNLP) (2.1.9)\n",
            "Requirement already satisfied: prettytable>=0.7.2 in /usr/local/lib/python3.6/dist-packages (from fastNLP) (0.7.2)\n",
            "Requirement already satisfied: six in /usr/local/lib/python3.6/dist-packages (from nltk>=3.4.1->fastNLP) (1.12.0)\n",
            "Requirement already satisfied: chardet<3.1.0,>=3.0.2 in /usr/local/lib/python3.6/dist-packages (from requests->fastNLP) (3.0.4)\n",
            "Requirement already satisfied: certifi>=2017.4.17 in /usr/local/lib/python3.6/dist-packages (from requests->fastNLP) (2019.11.28)\n",
            "Requirement already satisfied: urllib3<1.25,>=1.21.1 in /usr/local/lib/python3.6/dist-packages (from requests->fastNLP) (1.24.3)\n",
            "Requirement already satisfied: idna<2.9,>=2.5 in /usr/local/lib/python3.6/dist-packages (from requests->fastNLP) (2.8)\n",
            "Requirement already satisfied: wasabi<1.1.0,>=0.2.0 in /usr/local/lib/python3.6/dist-packages (from spacy->fastNLP) (0.6.0)\n",
            "Requirement already satisfied: srsly<1.1.0,>=0.0.6 in /usr/local/lib/python3.6/dist-packages (from spacy->fastNLP) (1.0.1)\n",
            "Requirement already satisfied: plac<1.0.0,>=0.9.6 in /usr/local/lib/python3.6/dist-packages (from spacy->fastNLP) (0.9.6)\n",
            "Requirement already satisfied: blis<0.3.0,>=0.2.2 in /usr/local/lib/python3.6/dist-packages (from spacy->fastNLP) (0.2.4)\n",
            "Requirement already satisfied: preshed<2.1.0,>=2.0.1 in /usr/local/lib/python3.6/dist-packages (from spacy->fastNLP) (2.0.1)\n",
            "Requirement already satisfied: murmurhash<1.1.0,>=0.28.0 in /usr/local/lib/python3.6/dist-packages (from spacy->fastNLP) (1.0.2)\n",
            "Requirement already satisfied: cymem<2.1.0,>=2.0.2 in /usr/local/lib/python3.6/dist-packages (from spacy->fastNLP) (2.0.3)\n",
            "Requirement already satisfied: thinc<7.1.0,>=7.0.8 in /usr/local/lib/python3.6/dist-packages (from spacy->fastNLP) (7.0.8)\n",
            "Building wheels for collected packages: nltk\n",
            "  Building wheel for nltk (setup.py) ... \u001b[?25l\u001b[?25hdone\n",
            "  Created wheel for nltk: filename=nltk-3.4.5-cp36-none-any.whl size=1449907 sha256=4a26b44e5f77af9303dc74d8c917559fabd2c4e763902e1e707801fb432df394\n",
            "  Stored in directory: /root/.cache/pip/wheels/96/86/f6/68ab24c23f207c0077381a5e3904b2815136b879538a24b483\n",
            "Successfully built nltk\n",
            "Installing collected packages: nltk, fastNLP\n",
            "  Found existing installation: nltk 3.2.5\n",
            "    Uninstalling nltk-3.2.5:\n",
            "      Successfully uninstalled nltk-3.2.5\n",
            "Successfully installed fastNLP-0.5.0 nltk-3.4.5\n"
          ],
          "name": "stdout"
        }
      ]
    },
    {
      "cell_type": "markdown",
      "metadata": {
        "id": "E4I8KF6ueuV1",
        "colab_type": "text"
      },
      "source": [
        "# Set up dataset for training"
      ]
    },
    {
      "cell_type": "code",
      "metadata": {
        "id": "L1ogZRokeNWS",
        "colab_type": "code",
        "colab": {}
      },
      "source": [
        "%mkdir /content/data\n",
        "%mv /content/fact-ru-eval2stanford/conll2003ru /content/data"
      ],
      "execution_count": 0,
      "outputs": []
    },
    {
      "cell_type": "markdown",
      "metadata": {
        "id": "iozpOSDLgn5Y",
        "colab_type": "text"
      },
      "source": [
        "# Fix statick_embedding.py file to support russian embeddings, add russian embeddings file\n"
      ]
    },
    {
      "cell_type": "markdown",
      "metadata": {
        "id": "3B-QeTi2Gb_a",
        "colab_type": "text"
      },
      "source": [
        "# Start training"
      ]
    },
    {
      "cell_type": "code",
      "metadata": {
        "id": "mOnGTFgjDF1b",
        "colab_type": "code",
        "colab": {
          "base_uri": "https://localhost:8080/",
          "height": 1000
        },
        "outputId": "cabd5283-fe13-4682-9ae3-86045523cc10"
      },
      "source": [
        "%cd TENER/\n",
        "!python train_tener_ru.py --training_dataset conll2003ru --models_folder /content"
      ],
      "execution_count": 0,
      "outputs": [
        {
          "output_type": "stream",
          "text": [
            "/usr/local/lib/python3.6/dist-packages/fastNLP/io/pipe/utils.py:137: UserWarning: There are 2 `target` labels in ['test', 'dev'] data set but not in train data set!.\n",
            "These label(s) are Counter({'B-Project': 2, 'E-Project': 2})\n",
            "  warnings.warn(warn_msg)\n",
            "There are 2 `target` labels in ['test', 'dev'] data set but not in train data set!.\n",
            "These label(s) are Counter({'B-Project': 2, 'E-Project': 2})\n",
            "Start constructing character vocabulary.\n",
            "In total, there are 127 distinct characters.\n",
            "All word in the vocab have been lowered. There are 22052 words, 20863 unique lowered words.\n",
            "Found 20347 out of 20863 words in the pre-training embedding.\n",
            "Save cache to caches/conll2003ru_transformer_bioes_cnn_True.pkl.\n",
            "input fields after batch(if batch size is 2):\n",
            "\ttarget: (1)type:torch.Tensor (2)dtype:torch.int64, (3)shape:torch.Size([2, 35]) \n",
            "\tseq_len: (1)type:torch.Tensor (2)dtype:torch.int64, (3)shape:torch.Size([2]) \n",
            "\tchars: (1)type:torch.Tensor (2)dtype:torch.int64, (3)shape:torch.Size([2, 35]) \n",
            "target fields after batch(if batch size is 2):\n",
            "\ttarget: (1)type:torch.Tensor (2)dtype:torch.int64, (3)shape:torch.Size([2, 35]) \n",
            "\tseq_len: (1)type:torch.Tensor (2)dtype:torch.int64, (3)shape:torch.Size([2]) \n",
            "\n",
            "training epochs started 2020-01-18-16-38-49\n",
            "Evaluate data in 0.92 seconds!\n",
            "Evaluate data in 0.88 seconds!\n",
            "EvaluateCallback evaluation on data-test:\n",
            "SpanFPreRecMetric: f=0.477931, pre=0.503759, rec=0.454623\n",
            "Evaluation on dev at Epoch 1/100. Step:194/19400: \n",
            "SpanFPreRecMetric: f=0.406867, pre=0.436866, rec=0.380723\n",
            "\n",
            "Evaluate data in 0.94 seconds!\n",
            "Evaluate data in 0.88 seconds!\n",
            "EvaluateCallback evaluation on data-test:\n",
            "SpanFPreRecMetric: f=0.52437, pre=0.434298, rec=0.661578\n",
            "Evaluation on dev at Epoch 2/100. Step:388/19400: \n",
            "SpanFPreRecMetric: f=0.50446, pre=0.408774, rec=0.658635\n",
            "\n",
            "Evaluate data in 0.95 seconds!\n",
            "Evaluate data in 0.9 seconds!\n",
            "EvaluateCallback evaluation on data-test:\n",
            "SpanFPreRecMetric: f=0.641433, pre=0.616588, rec=0.668363\n",
            "Evaluation on dev at Epoch 3/100. Step:582/19400: \n",
            "SpanFPreRecMetric: f=0.617061, pre=0.579802, rec=0.659438\n",
            "\n",
            "Evaluate data in 0.97 seconds!\n",
            "Evaluate data in 0.91 seconds!\n",
            "EvaluateCallback evaluation on data-test:\n",
            "SpanFPreRecMetric: f=0.622576, pre=0.752404, rec=0.530958\n",
            "Evaluation on dev at Epoch 4/100. Step:776/19400: \n",
            "SpanFPreRecMetric: f=0.636242, pre=0.718182, rec=0.571084\n",
            "\n",
            "Evaluate data in 1.0 seconds!\n",
            "Evaluate data in 0.97 seconds!\n",
            "EvaluateCallback evaluation on data-test:\n",
            "SpanFPreRecMetric: f=0.69441, pre=0.669025, rec=0.721798\n",
            "Evaluation on dev at Epoch 5/100. Step:970/19400: \n",
            "SpanFPreRecMetric: f=0.666157, pre=0.635106, rec=0.700402\n",
            "\n",
            "Evaluate data in 1.02 seconds!\n",
            "Evaluate data in 0.97 seconds!\n",
            "EvaluateCallback evaluation on data-test:\n",
            "SpanFPreRecMetric: f=0.704022, pre=0.753385, rec=0.660729\n",
            "Evaluation on dev at Epoch 6/100. Step:1164/19400: \n",
            "SpanFPreRecMetric: f=0.690258, pre=0.716508, rec=0.665863\n",
            "\n",
            "Evaluate data in 1.04 seconds!\n",
            "Evaluate data in 0.98 seconds!\n",
            "EvaluateCallback evaluation on data-test:\n",
            "SpanFPreRecMetric: f=0.683612, pre=0.618394, rec=0.764207\n",
            "Evaluation on dev at Epoch 7/100. Step:1358/19400: \n",
            "SpanFPreRecMetric: f=0.691145, pre=0.626223, rec=0.771084\n",
            "\n",
            "Evaluate data in 1.1 seconds!\n",
            "Evaluate data in 1.01 seconds!\n",
            "EvaluateCallback evaluation on data-test:\n",
            "SpanFPreRecMetric: f=0.734066, pre=0.761861, rec=0.708227\n",
            "Evaluation on dev at Epoch 8/100. Step:1552/19400: \n",
            "SpanFPreRecMetric: f=0.706699, pre=0.719036, rec=0.694779\n",
            "\n",
            "Evaluate data in 1.1 seconds!\n",
            "Epoch 9/100:   8% 1500/19400 [02:03<20:44, 14.39it/s, loss:3.57404]"
          ],
          "name": "stdout"
        }
      ]
    }
  ]
}